{
 "cells": [
  {
   "cell_type": "code",
   "execution_count": null,
   "metadata": {},
   "outputs": [],
   "source": [
    "import numpy as np\n",
    "fruit_basket = {'apple': 7, 'banana': 3, 'orange': 5}\n",
    "\n",
    "def pick_fruit(fruit_basket):\n",
    "    sum_of_values = sum(fruit_basket.values())\n",
    "    fruit_basket_prob = {k: v/float(sum_of_values) for k, v in fruit_basket.items()}\n",
    "    return np.random.choice(list(fruit_basket_prob.keys()), p = list(fruit_basket_prob.values()))\n",
    "\n",
    "\n",
    "pick_fruit(fruit_basket)\n"
   ]
  }
 ],
 "metadata": {
  "kernelspec": {
   "display_name": "Python 3",
   "language": "python",
   "name": "python3"
  },
  "language_info": {
   "codemirror_mode": {
    "name": "ipython",
    "version": 3
   },
   "file_extension": ".py",
   "mimetype": "text/x-python",
   "name": "python",
   "nbconvert_exporter": "python",
   "pygments_lexer": "ipython3",
   "version": "3.7.1"
  }
 },
 "nbformat": 4,
 "nbformat_minor": 2
}
